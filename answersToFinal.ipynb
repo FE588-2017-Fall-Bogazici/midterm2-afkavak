{
 "cells": [
  {
   "cell_type": "code",
   "execution_count": 29,
   "metadata": {
    "collapsed": true
   },
   "outputs": [],
   "source": [
    "import numpy as np\n",
    "import matplotlib as mpl\n",
    "import matplotlib.pyplot as plt\n",
    "import numpy as np\n",
    "import scipy as sc\n",
    "import pandas as pd"
   ]
  },
  {
   "cell_type": "code",
   "execution_count": 41,
   "metadata": {},
   "outputs": [],
   "source": [
    "## Q1\n",
    "#np.sin(30*np.pi/180)\n",
    "#\n",
    "class polynomial(object):\n",
    "    def __init__(self, c, v='x'):\n",
    "        self.coeff = c\n",
    "        self.v = v\n",
    "    def __repr__(self):\n",
    "        coeff = self.coeff\n",
    "        v = self.v\n",
    "        s = 'f('+v+') = '\n",
    "        D = len(coeff)\n",
    "        \n",
    "        first = True\n",
    "        \n",
    "        for i in range(D):\n",
    "            innerCoeff = D-i-1\n",
    "            pre = '+' if coeff[i]>0 else ''\n",
    "\n",
    "            if first:\n",
    "                if pre=='+':\n",
    "                    pre = ''\n",
    "                first = False\n",
    "            \n",
    "\n",
    "            if innerCoeff == 0:\n",
    "                vname = ''\n",
    "            elif innerCoeff == 1:\n",
    "                vname = 'sin('+v+')'\n",
    "            elif innerCoeff == 3:\n",
    "                vname = 'cos('+str(innerCoeff)+v+')'\n",
    "            else:\n",
    "                vname = 'sin('+str(innerCoeff)+v+')'\n",
    "\n",
    "            if coeff[i] != 0:\n",
    "                s += pre+str(coeff[i])+ '*' + vname + ' '\n",
    "                \n",
    "        return s\n",
    "    def __add__(self,b):\n",
    "        \"\"\"Computes a+b and returns the result\"\"\"\n",
    "        ### Note:  This code does not add polynomials \n",
    "        ###        of different orders so you must fix this\n",
    "        D = len(self.coeff)\n",
    "        D_ = len(b.coeff)\n",
    "        if(D>D_) :\n",
    "            for n in range(D-D_):\n",
    "                b.coeff.insert(0,0)\n",
    "        coeff = []\n",
    "        for i in range(D):\n",
    "            coeff.append(self.coeff[i] + b.coeff[i])\n",
    "        \n",
    "        return polynomial(coeff, self.v)\n",
    "    def __sub__(self,b):\n",
    "        \"\"\"Computes a-b and returns the result\"\"\"\n",
    "        D = len(self.coeff)\n",
    "        D_ = len(b.coeff)\n",
    "        if(D>D_) :\n",
    "            for n in range(D-D_):\n",
    "                b.coeff.insert(0,0)\n",
    "        coeff = []\n",
    "        for i in range(D):\n",
    "            coeff.append(self.coeff[i] - b.coeff[i])\n",
    "        return polynomial(coeff,self.v)\n",
    "    \n",
    "    def plot(self, number_of_points=100, left=-1, right=1):\n",
    "        \"\"\"\n",
    "            Evaluates the polynomial at number_of_points equally spaced \n",
    "            points between left and right and plots the result using matplotlib\n",
    "        \"\"\"\n",
    "        x_space = np.linspace(left,right,number_of_points)\n",
    "        y_space=[]\n",
    "        coeffs=self.coeff\n",
    "        for i in x_space:\n",
    "            y_j=[]\n",
    "            for j in range(len(coeffs)):\n",
    "                innerCoeff=len(coeffs)-j-1\n",
    "                y_j.append(coeffs[j]*np.sin(innerCoeff*i*np.pi/180))\n",
    "            y_space.append(sum(y_j))\n",
    "        plt.plot(x_space, y_space)\n",
    "        plt.show()\n",
    "        \n",
    "        return"
   ]
  },
  {
   "cell_type": "code",
   "execution_count": 47,
   "metadata": {},
   "outputs": [
    {
     "name": "stdout",
     "output_type": "stream",
     "text": [
      "f(x) = 1*sin(x) \n"
     ]
    },
    {
     "data": {
      "image/png": "[encoded data removed]",
      "text/plain": [
       "<matplotlib.figure.Figure at 0x10d451710>"
      ]
     },
     "metadata": {},
     "output_type": "display_data"
    }
   ],
   "source": [
    "q=polynomial([1,0],'x')\n",
    "print(q)\n",
    "q.plot(number_of_points=180,left=0,right=180)"
   ]
  },
  {
   "cell_type": "code",
   "execution_count": 64,
   "metadata": {},
   "outputs": [],
   "source": [
    "### not solved ###\n",
    "# luke    = Widget(\"Luke\")\n",
    "# hansolo = Widget(\"Han Solo\")\n",
    "# leia    = Widget(\"Leia\")\n",
    "# yoda    = Widget(\"Yoda\")\n",
    "# padme   = Widget(\"Padme Amidala\")\n",
    "# anakin  = Widget(\"Anakin Skywalker\")\n",
    "# obi     = Widget(\"Obi-Wan\")\n",
    "# darth   = Widget(\"Darth Vader\")\n",
    "# _all    = Widget(\"All\")\n",
    "\n",
    "\n",
    "# luke.add_dependency(hansolo, leia, yoda)\n",
    "# leia.add_dependency(padme, anakin)\n",
    "# obi.add_dependency(yoda)\n",
    "# darth.add_dependency(anakin)\n",
    "\n",
    "# _all.add_dependency(luke, hansolo, leia, yoda, padme, anakin, obi, darth)\n",
    "# _all.build()"
   ]
  }
 ],
 "metadata": {
  "kernelspec": {
   "display_name": "Python 3",
   "language": "python",
   "name": "python3"
  },
  "language_info": {
   "codemirror_mode": {
    "name": "ipython",
    "version": 3
   },
   "file_extension": ".py",
   "mimetype": "text/x-python",
   "name": "python",
   "nbconvert_exporter": "python",
   "pygments_lexer": "ipython3",
   "version": "3.6.1"
  }
 },
 "nbformat": 4,
 "nbformat_minor": 2
}
